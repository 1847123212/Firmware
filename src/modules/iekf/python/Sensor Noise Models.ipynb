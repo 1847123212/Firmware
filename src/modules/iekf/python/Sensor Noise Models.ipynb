{
 "cells": [
  {
   "cell_type": "markdown",
   "metadata": {},
   "source": [
    "We are using the model outlined in [Flenniken](https://www.google.com/url?sa=t&rct=j&q=&esrc=s&source=web&cd=1&cad=rja&uact=8&ved=0ahUKEwiZjeSK0qHRAhXo34MKHbaJAfIQFggdMAA&url=http%3A%2F%2Fgavlab.auburn.edu%2Fuploads%2FFlenniken_thesis.pdf&usg=AFQjCNHuDY0eogwJXNIGyZnCJlhu3e9zcw&sig2=ClNhy2G6y2X0lNifORBmUA)\n",
    "\n",
    "We assume the gyro measurement is composed of the vehicle rotation rate $r$, a constant offset $c_r$, a walking bias $b_r$, and wide band sensor noise, $w_{gyro}$.\n",
    "\n",
    "$g_r = r + c_r + b_r + w_{gyro}$\n",
    "\n"
   ]
  },
  {
   "cell_type": "markdown",
   "metadata": {},
   "source": [
    "| a | b |\n"
   ]
  },
  {
   "cell_type": "code",
   "execution_count": null,
   "metadata": {
    "collapsed": true
   },
   "outputs": [],
   "source": []
  }
 ],
 "metadata": {
  "anaconda-cloud": {},
  "kernelspec": {
   "display_name": "Python [conda root]",
   "language": "python",
   "name": "conda-root-py"
  },
  "language_info": {
   "codemirror_mode": {
    "name": "ipython",
    "version": 3
   },
   "file_extension": ".py",
   "mimetype": "text/x-python",
   "name": "python",
   "nbconvert_exporter": "python",
   "pygments_lexer": "ipython3",
   "version": "3.5.2"
  }
 },
 "nbformat": 4,
 "nbformat_minor": 1
}
